{
 "cells": [
  {
   "cell_type": "code",
   "execution_count": 1,
   "id": "5db32bdc-328e-4a42-bddc-aa1adc0bf85a",
   "metadata": {},
   "outputs": [],
   "source": [
    "from datetime import date\n",
    "def calculate_age(birthdate):\n",
    "    today = date.today()\n",
    "    age = today.year - birthdate.year -((today.month,today.day)<(birthdate.month,birthdate.day))\n",
    "    return age"
   ]
  },
  {
   "cell_type": "code",
   "execution_count": 2,
   "id": "a779ad7f-cb61-4455-916c-a596ad8c0ca9",
   "metadata": {},
   "outputs": [],
   "source": [
    "def get_birthdate():\n",
    "    while True:\n",
    "        try:\n",
    "            year = int(input(\"Enter the birth year:\"))\n",
    "            month = int(input(\"Enter the birth month:\"))\n",
    "            day = int(input(\"Enter the birth day:\"))\n",
    "            birthdate = date(year,month,day)\n",
    "            return birthdate\n",
    "        except ValueError:\n",
    "            print(\"Enter valid date please\")"
   ]
  },
  {
   "cell_type": "code",
   "execution_count": 3,
   "id": "1edd9e28-d995-46d5-8009-24d25e5d9827",
   "metadata": {},
   "outputs": [],
   "source": [
    "def main():\n",
    "    birthdate = get_birthdate()\n",
    "    age = calculate_age(birthdate)\n",
    "    print(f\"Your Current Age is: \",age)"
   ]
  },
  {
   "cell_type": "code",
   "execution_count": 4,
   "id": "3fd91f79-d78a-48f8-b2fe-4d2c00c7f50c",
   "metadata": {},
   "outputs": [
    {
     "name": "stdin",
     "output_type": "stream",
     "text": [
      "Enter the birth year: 2005\n",
      "Enter the birth month: 04\n",
      "Enter the birth day: 05\n"
     ]
    },
    {
     "name": "stdout",
     "output_type": "stream",
     "text": [
      "Your Current Age is:  20\n"
     ]
    }
   ],
   "source": [
    "if __name__ == \"__main__\":\n",
    "    main()"
   ]
  },
  {
   "cell_type": "code",
   "execution_count": null,
   "id": "d17122bc-bd24-4ca6-a220-0cca4be94c62",
   "metadata": {},
   "outputs": [],
   "source": []
  }
 ],
 "metadata": {
  "kernelspec": {
   "display_name": "Python 3 (ipykernel)",
   "language": "python",
   "name": "python3"
  },
  "language_info": {
   "codemirror_mode": {
    "name": "ipython",
    "version": 3
   },
   "file_extension": ".py",
   "mimetype": "text/x-python",
   "name": "python",
   "nbconvert_exporter": "python",
   "pygments_lexer": "ipython3",
   "version": "3.11.13"
  }
 },
 "nbformat": 4,
 "nbformat_minor": 5
}
