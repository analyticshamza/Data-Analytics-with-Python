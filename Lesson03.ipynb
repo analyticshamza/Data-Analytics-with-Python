{
 "cells": [
  {
   "cell_type": "code",
   "execution_count": 1,
   "id": "9fa5fe98-e153-487f-a31f-f6f29358b9b1",
   "metadata": {},
   "outputs": [],
   "source": [
    "import pandas as pd"
   ]
  },
  {
   "cell_type": "code",
   "execution_count": 8,
   "id": "0bf83744-d0f4-47fc-97c2-9fb3218d4305",
   "metadata": {},
   "outputs": [],
   "source": [
    "df = pd.read_csv('D:/USA_cars_datasets.csv')"
   ]
  },
  {
   "cell_type": "code",
   "execution_count": 9,
   "id": "33720895-73aa-4a06-a069-fa68682c1ed8",
   "metadata": {},
   "outputs": [
    {
     "data": {
      "text/html": [
       "<div>\n",
       "<style scoped>\n",
       "    .dataframe tbody tr th:only-of-type {\n",
       "        vertical-align: middle;\n",
       "    }\n",
       "\n",
       "    .dataframe tbody tr th {\n",
       "        vertical-align: top;\n",
       "    }\n",
       "\n",
       "    .dataframe thead th {\n",
       "        text-align: right;\n",
       "    }\n",
       "</style>\n",
       "<table border=\"1\" class=\"dataframe\">\n",
       "  <thead>\n",
       "    <tr style=\"text-align: right;\">\n",
       "      <th></th>\n",
       "      <th>Unnamed: 0</th>\n",
       "      <th>price</th>\n",
       "      <th>brand</th>\n",
       "      <th>model</th>\n",
       "      <th>year</th>\n",
       "      <th>title_status</th>\n",
       "      <th>mileage</th>\n",
       "      <th>color</th>\n",
       "      <th>vin</th>\n",
       "      <th>lot</th>\n",
       "      <th>state</th>\n",
       "      <th>country</th>\n",
       "      <th>condition</th>\n",
       "    </tr>\n",
       "  </thead>\n",
       "  <tbody>\n",
       "    <tr>\n",
       "      <th>0</th>\n",
       "      <td>0</td>\n",
       "      <td>6300</td>\n",
       "      <td>toyota</td>\n",
       "      <td>cruiser</td>\n",
       "      <td>2008</td>\n",
       "      <td>clean vehicle</td>\n",
       "      <td>274117</td>\n",
       "      <td>black</td>\n",
       "      <td>jtezu11f88k007763</td>\n",
       "      <td>159348797</td>\n",
       "      <td>new jersey</td>\n",
       "      <td>usa</td>\n",
       "      <td>10 days left</td>\n",
       "    </tr>\n",
       "    <tr>\n",
       "      <th>1</th>\n",
       "      <td>1</td>\n",
       "      <td>2899</td>\n",
       "      <td>ford</td>\n",
       "      <td>se</td>\n",
       "      <td>2011</td>\n",
       "      <td>clean vehicle</td>\n",
       "      <td>190552</td>\n",
       "      <td>silver</td>\n",
       "      <td>2fmdk3gc4bbb02217</td>\n",
       "      <td>166951262</td>\n",
       "      <td>tennessee</td>\n",
       "      <td>usa</td>\n",
       "      <td>6 days left</td>\n",
       "    </tr>\n",
       "    <tr>\n",
       "      <th>2</th>\n",
       "      <td>2</td>\n",
       "      <td>5350</td>\n",
       "      <td>dodge</td>\n",
       "      <td>mpv</td>\n",
       "      <td>2018</td>\n",
       "      <td>clean vehicle</td>\n",
       "      <td>39590</td>\n",
       "      <td>silver</td>\n",
       "      <td>3c4pdcgg5jt346413</td>\n",
       "      <td>167655728</td>\n",
       "      <td>georgia</td>\n",
       "      <td>usa</td>\n",
       "      <td>2 days left</td>\n",
       "    </tr>\n",
       "    <tr>\n",
       "      <th>3</th>\n",
       "      <td>3</td>\n",
       "      <td>25000</td>\n",
       "      <td>ford</td>\n",
       "      <td>door</td>\n",
       "      <td>2014</td>\n",
       "      <td>clean vehicle</td>\n",
       "      <td>64146</td>\n",
       "      <td>blue</td>\n",
       "      <td>1ftfw1et4efc23745</td>\n",
       "      <td>167753855</td>\n",
       "      <td>virginia</td>\n",
       "      <td>usa</td>\n",
       "      <td>22 hours left</td>\n",
       "    </tr>\n",
       "    <tr>\n",
       "      <th>4</th>\n",
       "      <td>4</td>\n",
       "      <td>27700</td>\n",
       "      <td>chevrolet</td>\n",
       "      <td>1500</td>\n",
       "      <td>2018</td>\n",
       "      <td>clean vehicle</td>\n",
       "      <td>6654</td>\n",
       "      <td>red</td>\n",
       "      <td>3gcpcrec2jg473991</td>\n",
       "      <td>167763266</td>\n",
       "      <td>florida</td>\n",
       "      <td>usa</td>\n",
       "      <td>22 hours left</td>\n",
       "    </tr>\n",
       "    <tr>\n",
       "      <th>5</th>\n",
       "      <td>5</td>\n",
       "      <td>5700</td>\n",
       "      <td>dodge</td>\n",
       "      <td>mpv</td>\n",
       "      <td>2018</td>\n",
       "      <td>clean vehicle</td>\n",
       "      <td>45561</td>\n",
       "      <td>white</td>\n",
       "      <td>2c4rdgeg9jr237989</td>\n",
       "      <td>167655771</td>\n",
       "      <td>texas</td>\n",
       "      <td>usa</td>\n",
       "      <td>2 days left</td>\n",
       "    </tr>\n",
       "    <tr>\n",
       "      <th>6</th>\n",
       "      <td>6</td>\n",
       "      <td>7300</td>\n",
       "      <td>chevrolet</td>\n",
       "      <td>pk</td>\n",
       "      <td>2010</td>\n",
       "      <td>clean vehicle</td>\n",
       "      <td>149050</td>\n",
       "      <td>black</td>\n",
       "      <td>1gcsksea1az121133</td>\n",
       "      <td>167753872</td>\n",
       "      <td>georgia</td>\n",
       "      <td>usa</td>\n",
       "      <td>22 hours left</td>\n",
       "    </tr>\n",
       "    <tr>\n",
       "      <th>7</th>\n",
       "      <td>7</td>\n",
       "      <td>13350</td>\n",
       "      <td>gmc</td>\n",
       "      <td>door</td>\n",
       "      <td>2017</td>\n",
       "      <td>clean vehicle</td>\n",
       "      <td>23525</td>\n",
       "      <td>gray</td>\n",
       "      <td>1gks2gkc3hr326762</td>\n",
       "      <td>167692494</td>\n",
       "      <td>california</td>\n",
       "      <td>usa</td>\n",
       "      <td>20 hours left</td>\n",
       "    </tr>\n",
       "    <tr>\n",
       "      <th>8</th>\n",
       "      <td>8</td>\n",
       "      <td>14600</td>\n",
       "      <td>chevrolet</td>\n",
       "      <td>malibu</td>\n",
       "      <td>2018</td>\n",
       "      <td>clean vehicle</td>\n",
       "      <td>9371</td>\n",
       "      <td>silver</td>\n",
       "      <td>1g1zd5st5jf191860</td>\n",
       "      <td>167763267</td>\n",
       "      <td>florida</td>\n",
       "      <td>usa</td>\n",
       "      <td>22 hours left</td>\n",
       "    </tr>\n",
       "    <tr>\n",
       "      <th>9</th>\n",
       "      <td>9</td>\n",
       "      <td>5250</td>\n",
       "      <td>ford</td>\n",
       "      <td>mpv</td>\n",
       "      <td>2017</td>\n",
       "      <td>clean vehicle</td>\n",
       "      <td>63418</td>\n",
       "      <td>black</td>\n",
       "      <td>2fmpk3j92hbc12542</td>\n",
       "      <td>167656121</td>\n",
       "      <td>texas</td>\n",
       "      <td>usa</td>\n",
       "      <td>2 days left</td>\n",
       "    </tr>\n",
       "  </tbody>\n",
       "</table>\n",
       "</div>"
      ],
      "text/plain": [
       "   Unnamed: 0  price      brand    model  year   title_status  mileage  \\\n",
       "0           0   6300     toyota  cruiser  2008  clean vehicle   274117   \n",
       "1           1   2899       ford       se  2011  clean vehicle   190552   \n",
       "2           2   5350      dodge      mpv  2018  clean vehicle    39590   \n",
       "3           3  25000       ford     door  2014  clean vehicle    64146   \n",
       "4           4  27700  chevrolet     1500  2018  clean vehicle     6654   \n",
       "5           5   5700      dodge      mpv  2018  clean vehicle    45561   \n",
       "6           6   7300  chevrolet       pk  2010  clean vehicle   149050   \n",
       "7           7  13350        gmc     door  2017  clean vehicle    23525   \n",
       "8           8  14600  chevrolet   malibu  2018  clean vehicle     9371   \n",
       "9           9   5250       ford      mpv  2017  clean vehicle    63418   \n",
       "\n",
       "    color                  vin        lot       state country      condition  \n",
       "0   black    jtezu11f88k007763  159348797  new jersey     usa   10 days left  \n",
       "1  silver    2fmdk3gc4bbb02217  166951262   tennessee     usa    6 days left  \n",
       "2  silver    3c4pdcgg5jt346413  167655728     georgia     usa    2 days left  \n",
       "3    blue    1ftfw1et4efc23745  167753855    virginia     usa  22 hours left  \n",
       "4     red    3gcpcrec2jg473991  167763266     florida     usa  22 hours left  \n",
       "5   white    2c4rdgeg9jr237989  167655771       texas     usa    2 days left  \n",
       "6   black    1gcsksea1az121133  167753872     georgia     usa  22 hours left  \n",
       "7    gray    1gks2gkc3hr326762  167692494  california     usa  20 hours left  \n",
       "8  silver    1g1zd5st5jf191860  167763267     florida     usa  22 hours left  \n",
       "9   black    2fmpk3j92hbc12542  167656121       texas     usa    2 days left  "
      ]
     },
     "execution_count": 9,
     "metadata": {},
     "output_type": "execute_result"
    }
   ],
   "source": [
    "df.head(10)"
   ]
  },
  {
   "cell_type": "code",
   "execution_count": 10,
   "id": "9cf9468c-6c16-4d1f-8583-c8c077f29a62",
   "metadata": {},
   "outputs": [
    {
     "data": {
      "text/html": [
       "<div>\n",
       "<style scoped>\n",
       "    .dataframe tbody tr th:only-of-type {\n",
       "        vertical-align: middle;\n",
       "    }\n",
       "\n",
       "    .dataframe tbody tr th {\n",
       "        vertical-align: top;\n",
       "    }\n",
       "\n",
       "    .dataframe thead th {\n",
       "        text-align: right;\n",
       "    }\n",
       "</style>\n",
       "<table border=\"1\" class=\"dataframe\">\n",
       "  <thead>\n",
       "    <tr style=\"text-align: right;\">\n",
       "      <th></th>\n",
       "      <th>Unnamed: 0</th>\n",
       "      <th>price</th>\n",
       "      <th>brand</th>\n",
       "      <th>model</th>\n",
       "      <th>year</th>\n",
       "      <th>title_status</th>\n",
       "      <th>mileage</th>\n",
       "      <th>color</th>\n",
       "      <th>vin</th>\n",
       "      <th>lot</th>\n",
       "      <th>state</th>\n",
       "      <th>country</th>\n",
       "      <th>condition</th>\n",
       "    </tr>\n",
       "  </thead>\n",
       "  <tbody>\n",
       "    <tr>\n",
       "      <th>2489</th>\n",
       "      <td>2489</td>\n",
       "      <td>13900</td>\n",
       "      <td>nissan</td>\n",
       "      <td>rogue</td>\n",
       "      <td>2018</td>\n",
       "      <td>clean vehicle</td>\n",
       "      <td>40259</td>\n",
       "      <td>gray</td>\n",
       "      <td>knmat2mt9jp582734</td>\n",
       "      <td>167762219</td>\n",
       "      <td>florida</td>\n",
       "      <td>usa</td>\n",
       "      <td>21 hours left</td>\n",
       "    </tr>\n",
       "    <tr>\n",
       "      <th>2490</th>\n",
       "      <td>2490</td>\n",
       "      <td>10400</td>\n",
       "      <td>nissan</td>\n",
       "      <td>sentra</td>\n",
       "      <td>2019</td>\n",
       "      <td>clean vehicle</td>\n",
       "      <td>25264</td>\n",
       "      <td>blue</td>\n",
       "      <td>3n1ab7ap4ky323241</td>\n",
       "      <td>167722702</td>\n",
       "      <td>california</td>\n",
       "      <td>usa</td>\n",
       "      <td>1 days left</td>\n",
       "    </tr>\n",
       "    <tr>\n",
       "      <th>2491</th>\n",
       "      <td>2491</td>\n",
       "      <td>9200</td>\n",
       "      <td>nissan</td>\n",
       "      <td>versa</td>\n",
       "      <td>2018</td>\n",
       "      <td>clean vehicle</td>\n",
       "      <td>35677</td>\n",
       "      <td>black</td>\n",
       "      <td>3n1cn7ap7jl882312</td>\n",
       "      <td>167762221</td>\n",
       "      <td>florida</td>\n",
       "      <td>usa</td>\n",
       "      <td>21 hours left</td>\n",
       "    </tr>\n",
       "    <tr>\n",
       "      <th>2492</th>\n",
       "      <td>2492</td>\n",
       "      <td>7400</td>\n",
       "      <td>nissan</td>\n",
       "      <td>versa</td>\n",
       "      <td>2019</td>\n",
       "      <td>clean vehicle</td>\n",
       "      <td>35511</td>\n",
       "      <td>black</td>\n",
       "      <td>3n1cn7ap5kl841811</td>\n",
       "      <td>167722706</td>\n",
       "      <td>california</td>\n",
       "      <td>usa</td>\n",
       "      <td>1 days left</td>\n",
       "    </tr>\n",
       "    <tr>\n",
       "      <th>2493</th>\n",
       "      <td>2493</td>\n",
       "      <td>9200</td>\n",
       "      <td>nissan</td>\n",
       "      <td>versa</td>\n",
       "      <td>2018</td>\n",
       "      <td>clean vehicle</td>\n",
       "      <td>33027</td>\n",
       "      <td>black</td>\n",
       "      <td>3n1cn7ap0jl883768</td>\n",
       "      <td>167762224</td>\n",
       "      <td>florida</td>\n",
       "      <td>usa</td>\n",
       "      <td>21 hours left</td>\n",
       "    </tr>\n",
       "    <tr>\n",
       "      <th>2494</th>\n",
       "      <td>2494</td>\n",
       "      <td>7800</td>\n",
       "      <td>nissan</td>\n",
       "      <td>versa</td>\n",
       "      <td>2019</td>\n",
       "      <td>clean vehicle</td>\n",
       "      <td>23609</td>\n",
       "      <td>red</td>\n",
       "      <td>3n1cn7ap9kl880319</td>\n",
       "      <td>167722715</td>\n",
       "      <td>california</td>\n",
       "      <td>usa</td>\n",
       "      <td>1 days left</td>\n",
       "    </tr>\n",
       "    <tr>\n",
       "      <th>2495</th>\n",
       "      <td>2495</td>\n",
       "      <td>9200</td>\n",
       "      <td>nissan</td>\n",
       "      <td>versa</td>\n",
       "      <td>2018</td>\n",
       "      <td>clean vehicle</td>\n",
       "      <td>34553</td>\n",
       "      <td>silver</td>\n",
       "      <td>3n1cn7ap5jl884088</td>\n",
       "      <td>167762225</td>\n",
       "      <td>florida</td>\n",
       "      <td>usa</td>\n",
       "      <td>21 hours left</td>\n",
       "    </tr>\n",
       "    <tr>\n",
       "      <th>2496</th>\n",
       "      <td>2496</td>\n",
       "      <td>9200</td>\n",
       "      <td>nissan</td>\n",
       "      <td>versa</td>\n",
       "      <td>2018</td>\n",
       "      <td>clean vehicle</td>\n",
       "      <td>31594</td>\n",
       "      <td>silver</td>\n",
       "      <td>3n1cn7ap9jl884191</td>\n",
       "      <td>167762226</td>\n",
       "      <td>florida</td>\n",
       "      <td>usa</td>\n",
       "      <td>21 hours left</td>\n",
       "    </tr>\n",
       "    <tr>\n",
       "      <th>2497</th>\n",
       "      <td>2497</td>\n",
       "      <td>9200</td>\n",
       "      <td>nissan</td>\n",
       "      <td>versa</td>\n",
       "      <td>2018</td>\n",
       "      <td>clean vehicle</td>\n",
       "      <td>32557</td>\n",
       "      <td>black</td>\n",
       "      <td>3n1cn7ap3jl883263</td>\n",
       "      <td>167762227</td>\n",
       "      <td>florida</td>\n",
       "      <td>usa</td>\n",
       "      <td>2 days left</td>\n",
       "    </tr>\n",
       "    <tr>\n",
       "      <th>2498</th>\n",
       "      <td>2498</td>\n",
       "      <td>9200</td>\n",
       "      <td>nissan</td>\n",
       "      <td>versa</td>\n",
       "      <td>2018</td>\n",
       "      <td>clean vehicle</td>\n",
       "      <td>31371</td>\n",
       "      <td>silver</td>\n",
       "      <td>3n1cn7ap4jl884311</td>\n",
       "      <td>167762228</td>\n",
       "      <td>florida</td>\n",
       "      <td>usa</td>\n",
       "      <td>21 hours left</td>\n",
       "    </tr>\n",
       "  </tbody>\n",
       "</table>\n",
       "</div>"
      ],
      "text/plain": [
       "      Unnamed: 0  price   brand   model  year   title_status  mileage   color  \\\n",
       "2489        2489  13900  nissan   rogue  2018  clean vehicle    40259    gray   \n",
       "2490        2490  10400  nissan  sentra  2019  clean vehicle    25264    blue   \n",
       "2491        2491   9200  nissan   versa  2018  clean vehicle    35677   black   \n",
       "2492        2492   7400  nissan   versa  2019  clean vehicle    35511   black   \n",
       "2493        2493   9200  nissan   versa  2018  clean vehicle    33027   black   \n",
       "2494        2494   7800  nissan   versa  2019  clean vehicle    23609     red   \n",
       "2495        2495   9200  nissan   versa  2018  clean vehicle    34553  silver   \n",
       "2496        2496   9200  nissan   versa  2018  clean vehicle    31594  silver   \n",
       "2497        2497   9200  nissan   versa  2018  clean vehicle    32557   black   \n",
       "2498        2498   9200  nissan   versa  2018  clean vehicle    31371  silver   \n",
       "\n",
       "                      vin        lot       state country      condition  \n",
       "2489    knmat2mt9jp582734  167762219     florida     usa  21 hours left  \n",
       "2490    3n1ab7ap4ky323241  167722702  california     usa    1 days left  \n",
       "2491    3n1cn7ap7jl882312  167762221     florida     usa  21 hours left  \n",
       "2492    3n1cn7ap5kl841811  167722706  california     usa    1 days left  \n",
       "2493    3n1cn7ap0jl883768  167762224     florida     usa  21 hours left  \n",
       "2494    3n1cn7ap9kl880319  167722715  california     usa    1 days left  \n",
       "2495    3n1cn7ap5jl884088  167762225     florida     usa  21 hours left  \n",
       "2496    3n1cn7ap9jl884191  167762226     florida     usa  21 hours left  \n",
       "2497    3n1cn7ap3jl883263  167762227     florida     usa    2 days left  \n",
       "2498    3n1cn7ap4jl884311  167762228     florida     usa  21 hours left  "
      ]
     },
     "execution_count": 10,
     "metadata": {},
     "output_type": "execute_result"
    }
   ],
   "source": [
    "df.tail(10)"
   ]
  },
  {
   "cell_type": "code",
   "execution_count": 12,
   "id": "c8f5289f-ee18-49bb-8c6e-b47ba7089b1e",
   "metadata": {},
   "outputs": [
    {
     "data": {
      "text/plain": [
       "(2499, 13)"
      ]
     },
     "execution_count": 12,
     "metadata": {},
     "output_type": "execute_result"
    }
   ],
   "source": [
    "df.shape"
   ]
  },
  {
   "cell_type": "code",
   "execution_count": 13,
   "id": "c51d82fb-358f-454b-a9ca-fd218d9cd1d8",
   "metadata": {},
   "outputs": [
    {
     "data": {
      "text/plain": [
       "<bound method DataFrame.info of       Unnamed: 0  price      brand    model  year   title_status  mileage  \\\n",
       "0              0   6300     toyota  cruiser  2008  clean vehicle   274117   \n",
       "1              1   2899       ford       se  2011  clean vehicle   190552   \n",
       "2              2   5350      dodge      mpv  2018  clean vehicle    39590   \n",
       "3              3  25000       ford     door  2014  clean vehicle    64146   \n",
       "4              4  27700  chevrolet     1500  2018  clean vehicle     6654   \n",
       "...          ...    ...        ...      ...   ...            ...      ...   \n",
       "2494        2494   7800     nissan    versa  2019  clean vehicle    23609   \n",
       "2495        2495   9200     nissan    versa  2018  clean vehicle    34553   \n",
       "2496        2496   9200     nissan    versa  2018  clean vehicle    31594   \n",
       "2497        2497   9200     nissan    versa  2018  clean vehicle    32557   \n",
       "2498        2498   9200     nissan    versa  2018  clean vehicle    31371   \n",
       "\n",
       "       color                  vin        lot       state country  \\\n",
       "0      black    jtezu11f88k007763  159348797  new jersey     usa   \n",
       "1     silver    2fmdk3gc4bbb02217  166951262   tennessee     usa   \n",
       "2     silver    3c4pdcgg5jt346413  167655728     georgia     usa   \n",
       "3       blue    1ftfw1et4efc23745  167753855    virginia     usa   \n",
       "4        red    3gcpcrec2jg473991  167763266     florida     usa   \n",
       "...      ...                  ...        ...         ...     ...   \n",
       "2494     red    3n1cn7ap9kl880319  167722715  california     usa   \n",
       "2495  silver    3n1cn7ap5jl884088  167762225     florida     usa   \n",
       "2496  silver    3n1cn7ap9jl884191  167762226     florida     usa   \n",
       "2497   black    3n1cn7ap3jl883263  167762227     florida     usa   \n",
       "2498  silver    3n1cn7ap4jl884311  167762228     florida     usa   \n",
       "\n",
       "          condition  \n",
       "0      10 days left  \n",
       "1       6 days left  \n",
       "2       2 days left  \n",
       "3     22 hours left  \n",
       "4     22 hours left  \n",
       "...             ...  \n",
       "2494    1 days left  \n",
       "2495  21 hours left  \n",
       "2496  21 hours left  \n",
       "2497    2 days left  \n",
       "2498  21 hours left  \n",
       "\n",
       "[2499 rows x 13 columns]>"
      ]
     },
     "execution_count": 13,
     "metadata": {},
     "output_type": "execute_result"
    }
   ],
   "source": [
    "df.info"
   ]
  },
  {
   "cell_type": "code",
   "execution_count": 14,
   "id": "96654b90-2c30-4890-985d-13319fe5f910",
   "metadata": {},
   "outputs": [
    {
     "data": {
      "text/plain": [
       "Unnamed: 0      0\n",
       "price           0\n",
       "brand           0\n",
       "model           0\n",
       "year            0\n",
       "title_status    0\n",
       "mileage         0\n",
       "color           0\n",
       "vin             0\n",
       "lot             0\n",
       "state           0\n",
       "country         0\n",
       "condition       0\n",
       "dtype: int64"
      ]
     },
     "execution_count": 14,
     "metadata": {},
     "output_type": "execute_result"
    }
   ],
   "source": [
    "df.isnull().sum()"
   ]
  },
  {
   "cell_type": "code",
   "execution_count": 15,
   "id": "ca119999-5a0d-4448-882d-f56bf11860f8",
   "metadata": {},
   "outputs": [
    {
     "data": {
      "text/plain": [
       "Unnamed: 0       int64\n",
       "price            int64\n",
       "brand           object\n",
       "model           object\n",
       "year             int64\n",
       "title_status    object\n",
       "mileage          int64\n",
       "color           object\n",
       "vin             object\n",
       "lot              int64\n",
       "state           object\n",
       "country         object\n",
       "condition       object\n",
       "dtype: object"
      ]
     },
     "execution_count": 15,
     "metadata": {},
     "output_type": "execute_result"
    }
   ],
   "source": [
    "df.dtypes"
   ]
  },
  {
   "cell_type": "code",
   "execution_count": 16,
   "id": "f89ae20a-218c-4f15-95ab-65d3c24509a1",
   "metadata": {},
   "outputs": [
    {
     "data": {
      "text/plain": [
       "0"
      ]
     },
     "execution_count": 16,
     "metadata": {},
     "output_type": "execute_result"
    }
   ],
   "source": [
    "df.duplicated().sum()"
   ]
  },
  {
   "cell_type": "code",
   "execution_count": 21,
   "id": "d1ed192c-d943-4e61-80b7-d332a785de1d",
   "metadata": {},
   "outputs": [
    {
     "data": {
      "text/html": [
       "<div>\n",
       "<style scoped>\n",
       "    .dataframe tbody tr th:only-of-type {\n",
       "        vertical-align: middle;\n",
       "    }\n",
       "\n",
       "    .dataframe tbody tr th {\n",
       "        vertical-align: top;\n",
       "    }\n",
       "\n",
       "    .dataframe thead th {\n",
       "        text-align: right;\n",
       "    }\n",
       "</style>\n",
       "<table border=\"1\" class=\"dataframe\">\n",
       "  <thead>\n",
       "    <tr style=\"text-align: right;\">\n",
       "      <th></th>\n",
       "      <th>Unnamed: 0</th>\n",
       "      <th>price</th>\n",
       "      <th>year</th>\n",
       "      <th>mileage</th>\n",
       "      <th>lot</th>\n",
       "    </tr>\n",
       "  </thead>\n",
       "  <tbody>\n",
       "    <tr>\n",
       "      <th>count</th>\n",
       "      <td>2499.000000</td>\n",
       "      <td>2499.000000</td>\n",
       "      <td>2499.000000</td>\n",
       "      <td>2.499000e+03</td>\n",
       "      <td>2.499000e+03</td>\n",
       "    </tr>\n",
       "    <tr>\n",
       "      <th>mean</th>\n",
       "      <td>1249.000000</td>\n",
       "      <td>18767.671469</td>\n",
       "      <td>2016.714286</td>\n",
       "      <td>5.229869e+04</td>\n",
       "      <td>1.676914e+08</td>\n",
       "    </tr>\n",
       "    <tr>\n",
       "      <th>std</th>\n",
       "      <td>721.543484</td>\n",
       "      <td>12116.094936</td>\n",
       "      <td>3.442656</td>\n",
       "      <td>5.970552e+04</td>\n",
       "      <td>2.038772e+05</td>\n",
       "    </tr>\n",
       "    <tr>\n",
       "      <th>min</th>\n",
       "      <td>0.000000</td>\n",
       "      <td>0.000000</td>\n",
       "      <td>1973.000000</td>\n",
       "      <td>0.000000e+00</td>\n",
       "      <td>1.593488e+08</td>\n",
       "    </tr>\n",
       "    <tr>\n",
       "      <th>25%</th>\n",
       "      <td>624.500000</td>\n",
       "      <td>10200.000000</td>\n",
       "      <td>2016.000000</td>\n",
       "      <td>2.146650e+04</td>\n",
       "      <td>1.676253e+08</td>\n",
       "    </tr>\n",
       "    <tr>\n",
       "      <th>50%</th>\n",
       "      <td>1249.000000</td>\n",
       "      <td>16900.000000</td>\n",
       "      <td>2018.000000</td>\n",
       "      <td>3.536500e+04</td>\n",
       "      <td>1.677451e+08</td>\n",
       "    </tr>\n",
       "    <tr>\n",
       "      <th>75%</th>\n",
       "      <td>1873.500000</td>\n",
       "      <td>25555.500000</td>\n",
       "      <td>2019.000000</td>\n",
       "      <td>6.347250e+04</td>\n",
       "      <td>1.677798e+08</td>\n",
       "    </tr>\n",
       "    <tr>\n",
       "      <th>max</th>\n",
       "      <td>2498.000000</td>\n",
       "      <td>84900.000000</td>\n",
       "      <td>2020.000000</td>\n",
       "      <td>1.017936e+06</td>\n",
       "      <td>1.678055e+08</td>\n",
       "    </tr>\n",
       "  </tbody>\n",
       "</table>\n",
       "</div>"
      ],
      "text/plain": [
       "        Unnamed: 0         price         year       mileage           lot\n",
       "count  2499.000000   2499.000000  2499.000000  2.499000e+03  2.499000e+03\n",
       "mean   1249.000000  18767.671469  2016.714286  5.229869e+04  1.676914e+08\n",
       "std     721.543484  12116.094936     3.442656  5.970552e+04  2.038772e+05\n",
       "min       0.000000      0.000000  1973.000000  0.000000e+00  1.593488e+08\n",
       "25%     624.500000  10200.000000  2016.000000  2.146650e+04  1.676253e+08\n",
       "50%    1249.000000  16900.000000  2018.000000  3.536500e+04  1.677451e+08\n",
       "75%    1873.500000  25555.500000  2019.000000  6.347250e+04  1.677798e+08\n",
       "max    2498.000000  84900.000000  2020.000000  1.017936e+06  1.678055e+08"
      ]
     },
     "execution_count": 21,
     "metadata": {},
     "output_type": "execute_result"
    }
   ],
   "source": [
    "#statistical analysis\n",
    "df.describe()"
   ]
  },
  {
   "cell_type": "code",
   "execution_count": 22,
   "id": "425dfa65-ffaf-41fd-a895-c40f7ddcc1ce",
   "metadata": {},
   "outputs": [
    {
     "data": {
      "text/html": [
       "<div>\n",
       "<style scoped>\n",
       "    .dataframe tbody tr th:only-of-type {\n",
       "        vertical-align: middle;\n",
       "    }\n",
       "\n",
       "    .dataframe tbody tr th {\n",
       "        vertical-align: top;\n",
       "    }\n",
       "\n",
       "    .dataframe thead th {\n",
       "        text-align: right;\n",
       "    }\n",
       "</style>\n",
       "<table border=\"1\" class=\"dataframe\">\n",
       "  <thead>\n",
       "    <tr style=\"text-align: right;\">\n",
       "      <th></th>\n",
       "      <th>Unnamed: 0</th>\n",
       "      <th>price</th>\n",
       "      <th>brand</th>\n",
       "      <th>model</th>\n",
       "      <th>year</th>\n",
       "      <th>title_status</th>\n",
       "      <th>mileage</th>\n",
       "      <th>color</th>\n",
       "      <th>vin</th>\n",
       "      <th>lot</th>\n",
       "      <th>state</th>\n",
       "      <th>country</th>\n",
       "      <th>condition</th>\n",
       "    </tr>\n",
       "  </thead>\n",
       "  <tbody>\n",
       "    <tr>\n",
       "      <th>count</th>\n",
       "      <td>2499.000000</td>\n",
       "      <td>2499.000000</td>\n",
       "      <td>2499</td>\n",
       "      <td>2499</td>\n",
       "      <td>2499.000000</td>\n",
       "      <td>2499</td>\n",
       "      <td>2.499000e+03</td>\n",
       "      <td>2499</td>\n",
       "      <td>2499</td>\n",
       "      <td>2.499000e+03</td>\n",
       "      <td>2499</td>\n",
       "      <td>2499</td>\n",
       "      <td>2499</td>\n",
       "    </tr>\n",
       "    <tr>\n",
       "      <th>unique</th>\n",
       "      <td>NaN</td>\n",
       "      <td>NaN</td>\n",
       "      <td>28</td>\n",
       "      <td>127</td>\n",
       "      <td>NaN</td>\n",
       "      <td>2</td>\n",
       "      <td>NaN</td>\n",
       "      <td>49</td>\n",
       "      <td>2495</td>\n",
       "      <td>NaN</td>\n",
       "      <td>44</td>\n",
       "      <td>2</td>\n",
       "      <td>47</td>\n",
       "    </tr>\n",
       "    <tr>\n",
       "      <th>top</th>\n",
       "      <td>NaN</td>\n",
       "      <td>NaN</td>\n",
       "      <td>ford</td>\n",
       "      <td>door</td>\n",
       "      <td>NaN</td>\n",
       "      <td>clean vehicle</td>\n",
       "      <td>NaN</td>\n",
       "      <td>white</td>\n",
       "      <td>1gnevhkw8jj148388</td>\n",
       "      <td>NaN</td>\n",
       "      <td>pennsylvania</td>\n",
       "      <td>usa</td>\n",
       "      <td>2 days left</td>\n",
       "    </tr>\n",
       "    <tr>\n",
       "      <th>freq</th>\n",
       "      <td>NaN</td>\n",
       "      <td>NaN</td>\n",
       "      <td>1235</td>\n",
       "      <td>651</td>\n",
       "      <td>NaN</td>\n",
       "      <td>2336</td>\n",
       "      <td>NaN</td>\n",
       "      <td>707</td>\n",
       "      <td>2</td>\n",
       "      <td>NaN</td>\n",
       "      <td>299</td>\n",
       "      <td>2492</td>\n",
       "      <td>832</td>\n",
       "    </tr>\n",
       "    <tr>\n",
       "      <th>mean</th>\n",
       "      <td>1249.000000</td>\n",
       "      <td>18767.671469</td>\n",
       "      <td>NaN</td>\n",
       "      <td>NaN</td>\n",
       "      <td>2016.714286</td>\n",
       "      <td>NaN</td>\n",
       "      <td>5.229869e+04</td>\n",
       "      <td>NaN</td>\n",
       "      <td>NaN</td>\n",
       "      <td>1.676914e+08</td>\n",
       "      <td>NaN</td>\n",
       "      <td>NaN</td>\n",
       "      <td>NaN</td>\n",
       "    </tr>\n",
       "    <tr>\n",
       "      <th>std</th>\n",
       "      <td>721.543484</td>\n",
       "      <td>12116.094936</td>\n",
       "      <td>NaN</td>\n",
       "      <td>NaN</td>\n",
       "      <td>3.442656</td>\n",
       "      <td>NaN</td>\n",
       "      <td>5.970552e+04</td>\n",
       "      <td>NaN</td>\n",
       "      <td>NaN</td>\n",
       "      <td>2.038772e+05</td>\n",
       "      <td>NaN</td>\n",
       "      <td>NaN</td>\n",
       "      <td>NaN</td>\n",
       "    </tr>\n",
       "    <tr>\n",
       "      <th>min</th>\n",
       "      <td>0.000000</td>\n",
       "      <td>0.000000</td>\n",
       "      <td>NaN</td>\n",
       "      <td>NaN</td>\n",
       "      <td>1973.000000</td>\n",
       "      <td>NaN</td>\n",
       "      <td>0.000000e+00</td>\n",
       "      <td>NaN</td>\n",
       "      <td>NaN</td>\n",
       "      <td>1.593488e+08</td>\n",
       "      <td>NaN</td>\n",
       "      <td>NaN</td>\n",
       "      <td>NaN</td>\n",
       "    </tr>\n",
       "    <tr>\n",
       "      <th>25%</th>\n",
       "      <td>624.500000</td>\n",
       "      <td>10200.000000</td>\n",
       "      <td>NaN</td>\n",
       "      <td>NaN</td>\n",
       "      <td>2016.000000</td>\n",
       "      <td>NaN</td>\n",
       "      <td>2.146650e+04</td>\n",
       "      <td>NaN</td>\n",
       "      <td>NaN</td>\n",
       "      <td>1.676253e+08</td>\n",
       "      <td>NaN</td>\n",
       "      <td>NaN</td>\n",
       "      <td>NaN</td>\n",
       "    </tr>\n",
       "    <tr>\n",
       "      <th>50%</th>\n",
       "      <td>1249.000000</td>\n",
       "      <td>16900.000000</td>\n",
       "      <td>NaN</td>\n",
       "      <td>NaN</td>\n",
       "      <td>2018.000000</td>\n",
       "      <td>NaN</td>\n",
       "      <td>3.536500e+04</td>\n",
       "      <td>NaN</td>\n",
       "      <td>NaN</td>\n",
       "      <td>1.677451e+08</td>\n",
       "      <td>NaN</td>\n",
       "      <td>NaN</td>\n",
       "      <td>NaN</td>\n",
       "    </tr>\n",
       "    <tr>\n",
       "      <th>75%</th>\n",
       "      <td>1873.500000</td>\n",
       "      <td>25555.500000</td>\n",
       "      <td>NaN</td>\n",
       "      <td>NaN</td>\n",
       "      <td>2019.000000</td>\n",
       "      <td>NaN</td>\n",
       "      <td>6.347250e+04</td>\n",
       "      <td>NaN</td>\n",
       "      <td>NaN</td>\n",
       "      <td>1.677798e+08</td>\n",
       "      <td>NaN</td>\n",
       "      <td>NaN</td>\n",
       "      <td>NaN</td>\n",
       "    </tr>\n",
       "    <tr>\n",
       "      <th>max</th>\n",
       "      <td>2498.000000</td>\n",
       "      <td>84900.000000</td>\n",
       "      <td>NaN</td>\n",
       "      <td>NaN</td>\n",
       "      <td>2020.000000</td>\n",
       "      <td>NaN</td>\n",
       "      <td>1.017936e+06</td>\n",
       "      <td>NaN</td>\n",
       "      <td>NaN</td>\n",
       "      <td>1.678055e+08</td>\n",
       "      <td>NaN</td>\n",
       "      <td>NaN</td>\n",
       "      <td>NaN</td>\n",
       "    </tr>\n",
       "  </tbody>\n",
       "</table>\n",
       "</div>"
      ],
      "text/plain": [
       "         Unnamed: 0         price brand model         year   title_status  \\\n",
       "count   2499.000000   2499.000000  2499  2499  2499.000000           2499   \n",
       "unique          NaN           NaN    28   127          NaN              2   \n",
       "top             NaN           NaN  ford  door          NaN  clean vehicle   \n",
       "freq            NaN           NaN  1235   651          NaN           2336   \n",
       "mean    1249.000000  18767.671469   NaN   NaN  2016.714286            NaN   \n",
       "std      721.543484  12116.094936   NaN   NaN     3.442656            NaN   \n",
       "min        0.000000      0.000000   NaN   NaN  1973.000000            NaN   \n",
       "25%      624.500000  10200.000000   NaN   NaN  2016.000000            NaN   \n",
       "50%     1249.000000  16900.000000   NaN   NaN  2018.000000            NaN   \n",
       "75%     1873.500000  25555.500000   NaN   NaN  2019.000000            NaN   \n",
       "max     2498.000000  84900.000000   NaN   NaN  2020.000000            NaN   \n",
       "\n",
       "             mileage  color                  vin           lot         state  \\\n",
       "count   2.499000e+03   2499                 2499  2.499000e+03          2499   \n",
       "unique           NaN     49                 2495           NaN            44   \n",
       "top              NaN  white    1gnevhkw8jj148388           NaN  pennsylvania   \n",
       "freq             NaN    707                    2           NaN           299   \n",
       "mean    5.229869e+04    NaN                  NaN  1.676914e+08           NaN   \n",
       "std     5.970552e+04    NaN                  NaN  2.038772e+05           NaN   \n",
       "min     0.000000e+00    NaN                  NaN  1.593488e+08           NaN   \n",
       "25%     2.146650e+04    NaN                  NaN  1.676253e+08           NaN   \n",
       "50%     3.536500e+04    NaN                  NaN  1.677451e+08           NaN   \n",
       "75%     6.347250e+04    NaN                  NaN  1.677798e+08           NaN   \n",
       "max     1.017936e+06    NaN                  NaN  1.678055e+08           NaN   \n",
       "\n",
       "       country    condition  \n",
       "count     2499         2499  \n",
       "unique       2           47  \n",
       "top        usa  2 days left  \n",
       "freq      2492          832  \n",
       "mean       NaN          NaN  \n",
       "std        NaN          NaN  \n",
       "min        NaN          NaN  \n",
       "25%        NaN          NaN  \n",
       "50%        NaN          NaN  \n",
       "75%        NaN          NaN  \n",
       "max        NaN          NaN  "
      ]
     },
     "execution_count": 22,
     "metadata": {},
     "output_type": "execute_result"
    }
   ],
   "source": [
    "df.describe(include = 'all')"
   ]
  },
  {
   "cell_type": "code",
   "execution_count": 23,
   "id": "0f72c459-9836-4948-911c-20eed06f32d9",
   "metadata": {},
   "outputs": [],
   "source": [
    "import numpy as np"
   ]
  },
  {
   "cell_type": "code",
   "execution_count": 24,
   "id": "c4eb157c-fad9-461b-aa4f-6b4ece2ec757",
   "metadata": {},
   "outputs": [],
   "source": [
    "prices = df['price'].to_numpy()"
   ]
  },
  {
   "cell_type": "code",
   "execution_count": 30,
   "id": "3b6e640f-f153-4ed7-97bb-8f809ec0685e",
   "metadata": {},
   "outputs": [
    {
     "name": "stdout",
     "output_type": "stream",
     "text": [
      "18767.67\n"
     ]
    }
   ],
   "source": [
    "print(np.mean(prices).round(2))"
   ]
  },
  {
   "cell_type": "code",
   "execution_count": 31,
   "id": "8a5e3462-2fa8-417a-822e-89c5f5c51393",
   "metadata": {},
   "outputs": [
    {
     "name": "stdout",
     "output_type": "stream",
     "text": [
      "Mean Price: $ 18767.67\n"
     ]
    }
   ],
   "source": [
    "print(\"Mean Price: $\",np.mean(df['price']).round(2))"
   ]
  },
  {
   "cell_type": "code",
   "execution_count": 32,
   "id": "f0a02cb2-b4b2-4d68-a08a-295ddcd37786",
   "metadata": {},
   "outputs": [
    {
     "name": "stdout",
     "output_type": "stream",
     "text": [
      "Maximum Price: $ 84900\n"
     ]
    }
   ],
   "source": [
    "print(\"Maximum Price: $\", np.max(df['price']))"
   ]
  },
  {
   "cell_type": "code",
   "execution_count": 33,
   "id": "69c94153-e4e0-409e-932a-5095fc535d92",
   "metadata": {},
   "outputs": [],
   "source": [
    "import matplotlib.pyplot as plt"
   ]
  },
  {
   "cell_type": "code",
   "execution_count": 46,
   "id": "08fb6545-8568-47a9-9a99-e2d43bc9bcd1",
   "metadata": {},
   "outputs": [
    {
     "data": {
      "image/png": "[encoded data removed]",
      "text/plain": [
       "<Figure size 1000x600 with 1 Axes>"
      ]
     },
     "metadata": {},
     "output_type": "display_data"
    }
   ],
   "source": [
    "#Price Distribution\n",
    "plt.figure(figsize=(10,6))\n",
    "plt.hist(df['price'],bins=50,edgecolor='black', color='#40E0D0')\n",
    "plt.title(\"Price Distribution\")\n",
    "plt.xlabel('Price (USD)', fontsize=12)\n",
    "plt.ylabel('Frequency (Number of Cars)', fontsize=12)\n",
    "plt.grid(axis='y', alpha=0.6)\n",
    "plt.tight_layout()\n",
    "plt.savefig('car_price_histogram.png')"
   ]
  },
  {
   "cell_type": "code",
   "execution_count": 51,
   "id": "2180838a-9ff8-4629-9096-f14ef590a43f",
   "metadata": {},
   "outputs": [
    {
     "data": {
      "image/png": "[encoded data removed]",
      "text/plain": [
       "<Figure size 1000x600 with 1 Axes>"
      ]
     },
     "metadata": {},
     "output_type": "display_data"
    }
   ],
   "source": [
    "#skew\n",
    "#kurtosis\n",
    "\n",
    "plt.figure(figsize = (10,6))\n",
    "plt.scatter(df['year'],df['price'])\n",
    "plt.show()"
   ]
  },
  {
   "cell_type": "code",
   "execution_count": 55,
   "id": "8ff36350-f6b2-44d7-a2bb-d09d1c3a5fd9",
   "metadata": {},
   "outputs": [],
   "source": [
    "import seaborn as sns"
   ]
  },
  {
   "cell_type": "code",
   "execution_count": 58,
   "id": "16df39f8-e378-4b41-a1e0-2aa8b4860b2d",
   "metadata": {},
   "outputs": [
    {
     "data": {
      "image/png": "[encoded data removed]",
      "text/plain": [
       "<Figure size 1000x600 with 1 Axes>"
      ]
     },
     "metadata": {},
     "output_type": "display_data"
    }
   ],
   "source": [
    "plt.figure(figsize = (10,6))\n",
    "sns.boxplot(x='year',y='price',data=df)\n",
    "plt.show()"
   ]
  },
  {
   "cell_type": "code",
   "execution_count": 62,
   "id": "5daac21b-0724-49b7-90b2-af6388e9179a",
   "metadata": {},
   "outputs": [
    {
     "name": "stderr",
     "output_type": "stream",
     "text": [
      "C:\\Users\\Dell\\AppData\\Local\\Temp\\ipykernel_2468\\1908807241.py:1: FutureWarning: \n",
      "\n",
      "Passing `palette` without assigning `hue` is deprecated and will be removed in v0.14.0. Assign the `x` variable to `hue` and set `legend=False` for the same effect.\n",
      "\n",
      "  sns.boxplot(x='year', y='price', data=df, palette='Set2')\n"
     ]
    },
    {
     "data": {
      "image/png": "[encoded data removed]",
      "text/plain": [
       "<Figure size 640x480 with 1 Axes>"
      ]
     },
     "metadata": {},
     "output_type": "display_data"
    }
   ],
   "source": [
    "sns.boxplot(x='year', y='price', data=df, palette='Set2')\n",
    "\n",
    "plt.title('Price Distribution by Most Frequent Car Years', fontsize=16)\n",
    "plt.xlabel('Car Year (Top 10 Most Frequent)', fontsize=12)\n",
    "plt.ylabel('Price (USD)', fontsize=12)\n",
    "plt.xticks(rotation=45, ha='right')\n",
    "plt.grid(axis='y', linestyle='--', alpha=0.7)\n",
    "plt.tight_layout()"
   ]
  },
  {
   "cell_type": "code",
   "execution_count": 63,
   "id": "f9990746-4866-4807-911f-75c44e045748",
   "metadata": {},
   "outputs": [
    {
     "data": {
      "text/plain": [
       "array([0. , 0.5, 1. , 1.5, 2. , 2.5, 3. , 3.5, 4. , 4.5])"
      ]
     },
     "execution_count": 63,
     "metadata": {},
     "output_type": "execute_result"
    }
   ],
   "source": [
    "range_array = np.arange(0,5,0.5)\n",
    "range_array"
   ]
  },
  {
   "cell_type": "code",
   "execution_count": 70,
   "id": "55202af8-9d1a-4a37-8f37-f26eedafaf1e",
   "metadata": {},
   "outputs": [],
   "source": [
    "arr2 = np.array([[5, 10, 15, 20, 25], [105, 110, 115, 120, 125]])"
   ]
  },
  {
   "cell_type": "code",
   "execution_count": 71,
   "id": "95c83d75-8900-4739-ab90-7dece098762c",
   "metadata": {},
   "outputs": [
    {
     "data": {
      "text/plain": [
       "2"
      ]
     },
     "execution_count": 71,
     "metadata": {},
     "output_type": "execute_result"
    }
   ],
   "source": [
    "arr2.ndim"
   ]
  },
  {
   "cell_type": "code",
   "execution_count": 72,
   "id": "810418ad-78e1-4cf9-8702-58d6b6605390",
   "metadata": {},
   "outputs": [
    {
     "data": {
      "text/plain": [
       "(2, 5)"
      ]
     },
     "execution_count": 72,
     "metadata": {},
     "output_type": "execute_result"
    }
   ],
   "source": [
    "arr2.shape"
   ]
  },
  {
   "cell_type": "code",
   "execution_count": 73,
   "id": "abc7ba21-456d-4e59-a980-7997158c9a21",
   "metadata": {},
   "outputs": [
    {
     "data": {
      "text/plain": [
       "array([50, 55, 60, 65, 70])"
      ]
     },
     "execution_count": 73,
     "metadata": {},
     "output_type": "execute_result"
    }
   ],
   "source": [
    "arr3 = np.array([50,55,60,65,70])\n",
    "arr3"
   ]
  },
  {
   "cell_type": "code",
   "execution_count": 74,
   "id": "b7fb23b4-ed35-4f92-a8b9-f2b5a125bcdf",
   "metadata": {},
   "outputs": [
    {
     "name": "stdout",
     "output_type": "stream",
     "text": [
      "[[ 55  65  75  85  95]\n",
      " [155 165 175 185 195]]\n"
     ]
    }
   ],
   "source": [
    "print(arr3 + arr2)"
   ]
  },
  {
   "cell_type": "code",
   "execution_count": 77,
   "id": "926dc022-cb7a-4eed-b01e-e027efdf685c",
   "metadata": {},
   "outputs": [
    {
     "data": {
      "text/plain": [
       "array([ 2,  4,  6,  8, 10])"
      ]
     },
     "execution_count": 77,
     "metadata": {},
     "output_type": "execute_result"
    }
   ],
   "source": [
    "arr1 = np.array([2,4,6,8,10])\n",
    "arr1"
   ]
  },
  {
   "cell_type": "code",
   "execution_count": 78,
   "id": "40b1507b-95ed-4c33-a9e9-47ef7fc1e662",
   "metadata": {},
   "outputs": [
    {
     "name": "stdout",
     "output_type": "stream",
     "text": [
      "[100 220 360 520 700]\n"
     ]
    }
   ],
   "source": [
    "print(arr1 * arr3)"
   ]
  },
  {
   "cell_type": "code",
   "execution_count": 81,
   "id": "29459ed7-308e-4702-96cf-885fd90293b9",
   "metadata": {},
   "outputs": [
    {
     "name": "stdout",
     "output_type": "stream",
     "text": [
      "[0.04 0.07 0.1  0.12 0.14]\n"
     ]
    }
   ],
   "source": [
    "print((arr1 / arr3).round(2))"
   ]
  },
  {
   "cell_type": "code",
   "execution_count": 83,
   "id": "74b3ecbf-d5ae-4155-8376-d989b8baf703",
   "metadata": {},
   "outputs": [
    {
     "data": {
      "text/plain": [
       "array([1.6, 3.2, 4.8, 6.4, 8. ])"
      ]
     },
     "execution_count": 83,
     "metadata": {},
     "output_type": "execute_result"
    }
   ],
   "source": [
    "arr4 = arr1*0.8\n",
    "arr4"
   ]
  },
  {
   "cell_type": "code",
   "execution_count": 88,
   "id": "963c58da-bd47-438c-acfe-f70bea1013cb",
   "metadata": {},
   "outputs": [
    {
     "name": "stdout",
     "output_type": "stream",
     "text": [
      "[ 6  8 10]\n"
     ]
    }
   ],
   "source": [
    "bool_array = arr1 > 4\n",
    "print(arr1[bool_array])"
   ]
  },
  {
   "cell_type": "code",
   "execution_count": 89,
   "id": "ce2858d6-f0c9-4b37-8173-1ea25405dfba",
   "metadata": {},
   "outputs": [
    {
     "data": {
      "text/plain": [
       "0       2008\n",
       "1       2011\n",
       "2       2018\n",
       "3       2014\n",
       "4       2018\n",
       "        ... \n",
       "2494    2019\n",
       "2495    2018\n",
       "2496    2018\n",
       "2497    2018\n",
       "2498    2018\n",
       "Name: year, Length: 2499, dtype: int64"
      ]
     },
     "execution_count": 89,
     "metadata": {},
     "output_type": "execute_result"
    }
   ],
   "source": [
    "df['year']"
   ]
  },
  {
   "cell_type": "code",
   "execution_count": 94,
   "id": "1fda6d79-cb46-48a0-ab19-87a9ba853268",
   "metadata": {},
   "outputs": [
    {
     "name": "stdout",
     "output_type": "stream",
     "text": [
      "      Unnamed: 0  price      brand   model  year   title_status  mileage  \\\n",
      "2              2   5350      dodge     mpv  2018  clean vehicle    39590   \n",
      "4              4  27700  chevrolet    1500  2018  clean vehicle     6654   \n",
      "5              5   5700      dodge     mpv  2018  clean vehicle    45561   \n",
      "7              7  13350        gmc    door  2017  clean vehicle    23525   \n",
      "8              8  14600  chevrolet  malibu  2018  clean vehicle     9371   \n",
      "...          ...    ...        ...     ...   ...            ...      ...   \n",
      "2494        2494   7800     nissan   versa  2019  clean vehicle    23609   \n",
      "2495        2495   9200     nissan   versa  2018  clean vehicle    34553   \n",
      "2496        2496   9200     nissan   versa  2018  clean vehicle    31594   \n",
      "2497        2497   9200     nissan   versa  2018  clean vehicle    32557   \n",
      "2498        2498   9200     nissan   versa  2018  clean vehicle    31371   \n",
      "\n",
      "       color                  vin        lot       state country  \\\n",
      "2     silver    3c4pdcgg5jt346413  167655728     georgia     usa   \n",
      "4        red    3gcpcrec2jg473991  167763266     florida     usa   \n",
      "5      white    2c4rdgeg9jr237989  167655771       texas     usa   \n",
      "7       gray    1gks2gkc3hr326762  167692494  california     usa   \n",
      "8     silver    1g1zd5st5jf191860  167763267     florida     usa   \n",
      "...      ...                  ...        ...         ...     ...   \n",
      "2494     red    3n1cn7ap9kl880319  167722715  california     usa   \n",
      "2495  silver    3n1cn7ap5jl884088  167762225     florida     usa   \n",
      "2496  silver    3n1cn7ap9jl884191  167762226     florida     usa   \n",
      "2497   black    3n1cn7ap3jl883263  167762227     florida     usa   \n",
      "2498  silver    3n1cn7ap4jl884311  167762228     florida     usa   \n",
      "\n",
      "          condition  \n",
      "2       2 days left  \n",
      "4     22 hours left  \n",
      "5       2 days left  \n",
      "7     20 hours left  \n",
      "8     22 hours left  \n",
      "...             ...  \n",
      "2494    1 days left  \n",
      "2495  21 hours left  \n",
      "2496  21 hours left  \n",
      "2497    2 days left  \n",
      "2498  21 hours left  \n",
      "\n",
      "[1915 rows x 13 columns]\n"
     ]
    }
   ],
   "source": [
    "if (df['year'] > 2015).any():   # if at least one row > 2015\n",
    "    print(df[df['year'] > 2015])\n",
    "else:\n",
    "    print(df['year'])\n",
    "\n"
   ]
  },
  {
   "cell_type": "code",
   "execution_count": 95,
   "id": "e5ed0f13-dd4c-4424-9f73-67d434837f76",
   "metadata": {},
   "outputs": [
    {
     "data": {
      "text/plain": [
       "<memory at 0x00000264412390C0>"
      ]
     },
     "execution_count": 95,
     "metadata": {},
     "output_type": "execute_result"
    }
   ],
   "source": [
    "arr3.data"
   ]
  },
  {
   "cell_type": "code",
   "execution_count": 96,
   "id": "bd4af462-d9a3-4650-a5d2-7bb2755fc60b",
   "metadata": {},
   "outputs": [
    {
     "name": "stdout",
     "output_type": "stream",
     "text": [
      "[ 0  1  2  3  4  5  6  7  8  9 10 11]\n"
     ]
    }
   ],
   "source": [
    "range_array1 = np.arange(0,12)\n",
    "print(range_array1)"
   ]
  },
  {
   "cell_type": "code",
   "execution_count": 104,
   "id": "69519e20-df22-47cc-b7d1-854232608dc4",
   "metadata": {},
   "outputs": [
    {
     "data": {
      "text/plain": [
       "array([[ 0,  1,  2,  3,  4,  5],\n",
       "       [ 6,  7,  8,  9, 10, 11]])"
      ]
     },
     "execution_count": 104,
     "metadata": {},
     "output_type": "execute_result"
    }
   ],
   "source": [
    "reshape_array2 = range_array1.reshape(2,6)\n",
    "reshape_array2"
   ]
  },
  {
   "cell_type": "code",
   "execution_count": null,
   "id": "03b6cab2-1f07-42f3-ac7e-0067860a34fb",
   "metadata": {},
   "outputs": [],
   "source": []
  }
 ],
 "metadata": {
  "kernelspec": {
   "display_name": "Python 3 (ipykernel)",
   "language": "python",
   "name": "python3"
  },
  "language_info": {
   "codemirror_mode": {
    "name": "ipython",
    "version": 3
   },
   "file_extension": ".py",
   "mimetype": "text/x-python",
   "name": "python",
   "nbconvert_exporter": "python",
   "pygments_lexer": "ipython3",
   "version": "3.11.13"
  }
 },
 "nbformat": 4,
 "nbformat_minor": 5
}
