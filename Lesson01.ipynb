{
 "cells": [
  {
   "cell_type": "code",
   "execution_count": 14,
   "id": "242fd141-85d2-4b57-91b0-3dfdbe35be91",
   "metadata": {},
   "outputs": [],
   "source": [
    "import datetime"
   ]
  },
  {
   "cell_type": "code",
   "execution_count": 1,
   "id": "c4600520-748b-4084-93dd-2682ee899e63",
   "metadata": {},
   "outputs": [],
   "source": [
    "from datetime import date"
   ]
  },
  {
   "cell_type": "code",
   "execution_count": 2,
   "id": "494e0815-b1b6-4e0a-8cd8-eadc8f1e3c1b",
   "metadata": {},
   "outputs": [
    {
     "name": "stdout",
     "output_type": "stream",
     "text": [
      "2025-09-20\n",
      "2025\n",
      "9\n",
      "20\n"
     ]
    }
   ],
   "source": [
    "today = date.today()\n",
    "print(today)         # e.g., 2025-09-20\n",
    "print(today.year)    # 2025\n",
    "print(today.month)   # 9\n",
    "print(today.day)     # 20"
   ]
  },
  {
   "cell_type": "code",
   "execution_count": 16,
   "id": "8daadb98-98e5-4e5a-b2f4-c5c9c1ee0eb8",
   "metadata": {},
   "outputs": [
    {
     "name": "stdout",
     "output_type": "stream",
     "text": [
      "2025-05-20\n",
      "<class 'datetime.date'>\n"
     ]
    }
   ],
   "source": [
    "date1 = date(2025,5,20)\n",
    "print(date1)\n",
    "print(type(date1))"
   ]
  },
  {
   "cell_type": "code",
   "execution_count": 22,
   "id": "ac8612d6-946c-4a2f-8f6c-da09583fa715",
   "metadata": {},
   "outputs": [
    {
     "name": "stdout",
     "output_type": "stream",
     "text": [
      "2015-09-25\n",
      "<class 'datetime.date'>\n"
     ]
    }
   ],
   "source": [
    "date1 = date(2015,9,25)\n",
    "print(date1)\n",
    "print(type(date1))"
   ]
  },
  {
   "cell_type": "code",
   "execution_count": 5,
   "id": "714e0738-15ef-4ca4-a5b9-d3e01f34cc91",
   "metadata": {},
   "outputs": [
    {
     "name": "stdout",
     "output_type": "stream",
     "text": [
      "2025\n"
     ]
    }
   ],
   "source": [
    "print(date1.year)"
   ]
  },
  {
   "cell_type": "code",
   "execution_count": 6,
   "id": "d4b43d46-69e8-46b5-bbc4-57b68b23b895",
   "metadata": {},
   "outputs": [
    {
     "name": "stdout",
     "output_type": "stream",
     "text": [
      "9\n"
     ]
    }
   ],
   "source": [
    "print(date1.month)"
   ]
  },
  {
   "cell_type": "code",
   "execution_count": 7,
   "id": "25189b1c-da14-4472-aab7-509c326a00c5",
   "metadata": {},
   "outputs": [
    {
     "name": "stdout",
     "output_type": "stream",
     "text": [
      "25\n"
     ]
    }
   ],
   "source": [
    "print(date1.day)"
   ]
  },
  {
   "cell_type": "code",
   "execution_count": 20,
   "id": "1f268f3c-4c9f-45bc-ae6a-55db1d66cbfd",
   "metadata": {},
   "outputs": [
    {
     "name": "stdout",
     "output_type": "stream",
     "text": [
      "2025-09-20\n"
     ]
    }
   ],
   "source": [
    "current_date = date.today()\n",
    "print(current_date)"
   ]
  },
  {
   "cell_type": "code",
   "execution_count": 21,
   "id": "4b3426a2-ed1e-4c2e-a4ca-547244f2d3de",
   "metadata": {},
   "outputs": [
    {
     "data": {
      "text/plain": [
       "0"
      ]
     },
     "execution_count": 21,
     "metadata": {},
     "output_type": "execute_result"
    }
   ],
   "source": [
    "delta = current_date.year - date1.year\n",
    "delta"
   ]
  },
  {
   "cell_type": "code",
   "execution_count": 23,
   "id": "36caea8f-f641-4418-96e8-e5bab637e259",
   "metadata": {},
   "outputs": [
    {
     "name": "stdout",
     "output_type": "stream",
     "text": [
      "0\n"
     ]
    }
   ],
   "source": [
    "delta_month = current_date.month - date1.month\n",
    "print(delta_month)"
   ]
  },
  {
   "cell_type": "code",
   "execution_count": 24,
   "id": "409fc1dd-4428-4c4c-989b-ce3ad7872140",
   "metadata": {},
   "outputs": [
    {
     "name": "stdout",
     "output_type": "stream",
     "text": [
      "2025-09-20\n"
     ]
    }
   ],
   "source": [
    "today = date.today()\n",
    "print(today)   # e.g., 2025-09-20\n"
   ]
  },
  {
   "cell_type": "code",
   "execution_count": 27,
   "id": "c26e857a-8276-45ec-a558-294bb8c0fac3",
   "metadata": {},
   "outputs": [],
   "source": [
    "birthdate = date(2000, 5, 15)   # YYYY, MM, DD"
   ]
  },
  {
   "cell_type": "code",
   "execution_count": 29,
   "id": "65ff151a-4ea7-4397-938c-65d04e38865a",
   "metadata": {},
   "outputs": [],
   "source": [
    "if (today.month, today.day) < (birthdate.month, birthdate.day):\n",
    "    age -= 1"
   ]
  },
  {
   "cell_type": "code",
   "execution_count": 54,
   "id": "80f86d63-333f-4a5d-b578-63fdd028ff14",
   "metadata": {},
   "outputs": [],
   "source": [
    "# Age Calculator\n",
    "from datetime import date\n",
    "def calculate_age(birthdate):\n",
    "    today = date.today()\n",
    "    age = today.year - birthdate.year -((today.month,today.day)<(birthdate.month,birthdate.day))\n",
    "    return age\n",
    "def get_birthdate():\n",
    "    while True:\n",
    "        try:\n",
    "            year = int(input(\"Enter the birth year:\"))\n",
    "            month = int(input(\"Enter the birth month:\"))\n",
    "            day = int(input(\"Enter the birth day:\"))\n",
    "            birthdate = date(year,month,day)\n",
    "            return birthdate\n",
    "        except ValueError:\n",
    "            print(\"Enter valid date please\")\n",
    "\n"
   ]
  },
  {
   "cell_type": "code",
   "execution_count": 55,
   "id": "9d3c23a7-e2f7-4237-a35f-810298e9fe2d",
   "metadata": {},
   "outputs": [],
   "source": [
    "def main():\n",
    "    birthdate = get_birthdate()\n",
    "    age = calculate_age(birthdate)\n",
    "    print(f\"Your Current Age is: \",age)"
   ]
  },
  {
   "cell_type": "code",
   "execution_count": 56,
   "id": "72777920-7883-439b-80fa-be562e3bd3e0",
   "metadata": {},
   "outputs": [
    {
     "name": "stdin",
     "output_type": "stream",
     "text": [
      "Enter the birth year: 1998\n",
      "Enter the birth month: 12\n",
      "Enter the birth day: 30\n"
     ]
    },
    {
     "name": "stdout",
     "output_type": "stream",
     "text": [
      "Your Current Age is:  26\n"
     ]
    }
   ],
   "source": [
    "if __name__ == \"__main__\":\n",
    "    main()"
   ]
  },
  {
   "cell_type": "code",
   "execution_count": 2,
   "id": "fc48b29e-8364-413e-bc2c-037561d89ac4",
   "metadata": {},
   "outputs": [],
   "source": [
    "import numpy as np"
   ]
  },
  {
   "cell_type": "code",
   "execution_count": 11,
   "id": "d0eb7406-3a68-4ca9-9da6-7bb80f0637af",
   "metadata": {},
   "outputs": [
    {
     "data": {
      "text/plain": [
       "array([ 1,  2, 33, 10, 20, 30])"
      ]
     },
     "execution_count": 11,
     "metadata": {},
     "output_type": "execute_result"
    }
   ],
   "source": [
    "array1 = np.array([1,2,33,10,20,30])\n",
    "array1"
   ]
  },
  {
   "cell_type": "code",
   "execution_count": 12,
   "id": "c8760b51-bfd7-4fba-9102-659f4d1fed9d",
   "metadata": {},
   "outputs": [
    {
     "data": {
      "text/plain": [
       "array([20, 30])"
      ]
     },
     "execution_count": 12,
     "metadata": {},
     "output_type": "execute_result"
    }
   ],
   "source": [
    "array2 = np.array([20,30])\n",
    "array2"
   ]
  },
  {
   "cell_type": "code",
   "execution_count": 18,
   "id": "0703036c-8604-44f6-9a18-a354acf1d185",
   "metadata": {},
   "outputs": [
    {
     "name": "stdout",
     "output_type": "stream",
     "text": [
      "[21 32 38 25 45 65]\n"
     ]
    }
   ],
   "source": [
    "array1 = np.array([1,2,33,10,20,30])\n",
    "array2 = np.array([20,30,5,15,25,35])  # Same size\n",
    "array3 = array1 + array2\n",
    "print(array3)\n",
    "# Output: array([21, 32, 38, 25, 45, 65])"
   ]
  },
  {
   "cell_type": "code",
   "execution_count": 19,
   "id": "afea1cc6-78cc-433f-aee3-3cf7fb0e1680",
   "metadata": {},
   "outputs": [
    {
     "data": {
      "text/plain": [
       "np.int64(25)"
      ]
     },
     "execution_count": 19,
     "metadata": {},
     "output_type": "execute_result"
    }
   ],
   "source": [
    "array3[3]"
   ]
  },
  {
   "cell_type": "code",
   "execution_count": 20,
   "id": "b153557a-c8eb-417f-98b4-11f4f776a466",
   "metadata": {},
   "outputs": [],
   "source": [
    "import numpy as np"
   ]
  },
  {
   "cell_type": "code",
   "execution_count": 26,
   "id": "62ae35ca-4d79-4e50-9783-fd0c00c9dfc8",
   "metadata": {},
   "outputs": [],
   "source": [
    "import scipy\n",
    "from scipy.linalg import inv"
   ]
  },
  {
   "cell_type": "code",
   "execution_count": 27,
   "id": "6a880a6f-d02b-446a-9d02-68d169a9dafe",
   "metadata": {},
   "outputs": [
    {
     "name": "stdout",
     "output_type": "stream",
     "text": [
      "[[10 20]\n",
      " [60 70]]\n",
      "===\n",
      "[[-0.14  0.04]\n",
      " [ 0.12 -0.02]]\n"
     ]
    }
   ],
   "source": [
    "A = np.array([[10,20],[60,70]])\n",
    "inv_A = inv(A)\n",
    "print(A)\n",
    "print(\"===\")\n",
    "print(inv_A)"
   ]
  },
  {
   "cell_type": "code",
   "execution_count": null,
   "id": "8aa688d2-7213-4474-bcda-edab32e967c6",
   "metadata": {},
   "outputs": [],
   "source": []
  }
 ],
 "metadata": {
  "kernelspec": {
   "display_name": "Python 3 (ipykernel)",
   "language": "python",
   "name": "python3"
  },
  "language_info": {
   "codemirror_mode": {
    "name": "ipython",
    "version": 3
   },
   "file_extension": ".py",
   "mimetype": "text/x-python",
   "name": "python",
   "nbconvert_exporter": "python",
   "pygments_lexer": "ipython3",
   "version": "3.11.13"
  }
 },
 "nbformat": 4,
 "nbformat_minor": 5
}
